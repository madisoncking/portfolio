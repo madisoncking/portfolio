{
 "cells": [
  {
   "cell_type": "markdown",
   "metadata": {},
   "source": [
    "# LeetCode problem - Find the Median of Two Sorted Arrays:"
   ]
  },
  {
   "cell_type": "markdown",
   "metadata": {},
   "source": [
    "There are two sorted arrays nums1 and nums2 of size m and n respectively.\n",
    "\n",
    "Find the median of the two sorted arrays. The overall run time complexity should be O(log (m+n)).\n",
    "\n",
    "You may assume nums1 and nums2 cannot be both empty."
   ]
  },
  {
   "cell_type": "code",
   "execution_count": 1,
   "metadata": {},
   "outputs": [],
   "source": [
    "class Solution:\n",
    "    def findMedianSortedArrays(self, nums1, nums2):\n",
    "        allNums = nums1 + nums2 #put both sets of numbers into one array\n",
    "        allNums.sort() #sort the array \n",
    "        if ((len(allNums)%2) == 0): #if there is an even number of items in the array, the median will be the average of the middle two spots\n",
    "            median = len(allNums)/2\n",
    "            median = (allNums[int(median)]+allNums[int(median-1)])/2\n",
    "        else: #if there is an off number of itens in the array, the median will be at the center (the length divided by 2)\n",
    "            median = (len(allNums))/2\n",
    "            median = allNums[int(median)]\n",
    "        return(median)"
   ]
  },
  {
   "cell_type": "markdown",
   "metadata": {},
   "source": [
    "# LeetCode Analysis:\n",
    "Runtime: 96 ms, faster than 66.92% of Python3 online submissions for Median of Two Sorted Arrays.\n",
    "\n",
    "Memory Usage: 12.9 MB, less than 100.00% of Python3 online submissions for Median of Two Sorted Arrays."
   ]
  },
  {
   "cell_type": "code",
   "execution_count": null,
   "metadata": {},
   "outputs": [],
   "source": []
  }
 ],
 "metadata": {
  "kernelspec": {
   "display_name": "Python 2",
   "language": "python",
   "name": "python2"
  },
  "language_info": {
   "codemirror_mode": {
    "name": "ipython",
    "version": 2
   },
   "file_extension": ".py",
   "mimetype": "text/x-python",
   "name": "python",
   "nbconvert_exporter": "python",
   "pygments_lexer": "ipython2",
   "version": "2.7.15"
  }
 },
 "nbformat": 4,
 "nbformat_minor": 2
}
