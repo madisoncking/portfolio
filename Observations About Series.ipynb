{
 "cells": [
  {
   "cell_type": "code",
   "execution_count": 1,
   "metadata": {
    "colab": {},
    "colab_type": "code",
    "id": "r1w6u6XR4Te7"
   },
   "outputs": [],
   "source": [
    "import numpy as np\n",
    "import matplotlib.pyplot as plt\n",
    "%matplotlib inline"
   ]
  },
  {
   "cell_type": "markdown",
   "metadata": {
    "colab_type": "text",
    "id": "J_KTRQt04TfC"
   },
   "source": [
    "# Find a Taylor series around $x_{0}=0$ of $\\sin^{3}(x)$.  "
   ]
  },
  {
   "cell_type": "markdown",
   "metadata": {
    "colab_type": "text",
    "id": "m7cj7sdR4TfF"
   },
   "source": [
    "\n",
    "Let,\n",
    "$$\n",
    "y(x) = \\sin^{3}(x),\n",
    "$$\n",
    "\n",
    "We know the following to be true: \n",
    "\n",
    "$$\n",
    "\\sin^{2}(x) = \\frac{1 - \\cos(2x)}{2},\n",
    "$$ \n",
    "\n",
    "$$\n",
    "\\frac{\\sin(x)\\cos(2x)}{2} = \\frac{1}{4}\\left(\\sin(3x) - \\sin(x)\\right)\n",
    "$$\n",
    "\n",
    "Then, \n",
    "\n",
    "$$\n",
    "\\sin^{3}(x) = \\sin^{2}(x)\\sin(x) = \\frac{1-\\cos(2x)}{2}*\\sin(x)\n",
    "$$\n",
    "\n",
    "$$\n",
    "= \\frac{\\sin(x)-\\sin(x)\\cos(2x)}{2} = \\frac{\\sin(x)}{2} - \\frac{1}{4}(\\sin(3x)-\\sin(x))\n",
    "$$\n",
    "\n",
    "$$\n",
    "= \\frac{\\sin(x)}{2}- \\frac{\\sin(3x)}{4} + \\frac{\\sin(x)}{4} = \\frac{1}{4}(3\\sin(x)-\\sin(3x))\n",
    "$$\n",
    "\n",
    "$$\n",
    "= \\frac{1}{4}[3\\sum_{j=0}^{\\infty}\\frac{(-1)^{j}}{(2j + 1)!}x^{2j +1} - \\sum_{j=0}^{\\infty}\\frac{(-1)^{j}}{(2j + 1)!}x^{2j +1}3^{2j+1}]\n",
    "$$\n",
    "\n",
    "$$\n",
    "= \\frac{1}{4}[\\sum_{j=0}^{\\infty}\\frac{3(-1)^{j}x^{2j +1} - (-1)^{j}x^{2j +1}3^{2j+1}}{(2j+1)!}]\n",
    "$$\n",
    "\n",
    "Thus, for the Taylor series of $\\sin^{3}(x)$ ,\n",
    "$$\n",
    "\\sin^{3}(x) = \\frac{3}{4}\\sum_{j=0}^{\\infty}\\frac{(-1)^{j}x^{2j +1}(1-9^{j})}{(2j+1)!} = x^{3} - \\frac{x^{5}}{2} + \\frac{13x^{7}}{120} - \\frac{41x^{9}}{3024} +  ...\n",
    "$$\n",
    "\n",
    "Let $$a_j = \\frac{(-1)^{j}(1-9^{j})}{(2j + 1)!}x^{2j +1}$$ then when $j = 0, a_{j}(x) = 0 $ and we can write that:\n",
    "\n",
    "$$\n",
    "a_{j}(x) = \\left\\{\n",
    "\\begin{array}{rl}\n",
    "\\frac{-x^{2}(1-9^{j})}{(2j + 1)(2j)(1-9^{j-1})}a_{j-1} & j\\geq 2\\\\\n",
    "x^3 & j=1\n",
    "\\end{array}\n",
    "\\right.\n",
    "$$"
   ]
  },
  {
   "cell_type": "code",
   "execution_count": 2,
   "metadata": {
    "colab": {},
    "colab_type": "code",
    "id": "GsLY8-WD4TfI"
   },
   "outputs": [],
   "source": [
    "#below is a tolerance based, recursive, vectorized implementation of this function\n",
    "from copy import copy\n",
    "\n",
    "def sincub_vec(x,tol):\n",
    "    tot = (4./3.)*(x**3.)\n",
    "    aj = copy(tot)\n",
    "    j=2\n",
    "    x2 = -x**2\n",
    "    while np.max(np.abs(aj))>= tol:\n",
    "        aj *= (x2*(1.-(9.**j)))/((2.*j+1.)*(2.*j)*(1.-9.**(j-1.)))\n",
    "        tot +=aj\n",
    "        j +=1\n",
    "    return tot*(3./4.)"
   ]
  },
  {
   "cell_type": "code",
   "execution_count": 3,
   "metadata": {
    "colab": {
     "base_uri": "https://localhost:8080/",
     "height": 297
    },
    "colab_type": "code",
    "executionInfo": {
     "elapsed": 872,
     "status": "ok",
     "timestamp": 1554077574458,
     "user": {
      "displayName": "Madison King",
      "photoUrl": "",
      "userId": "16221486873408192498"
     },
     "user_tz": 420
    },
    "id": "LdDNbmO64TfM",
    "outputId": "d364d173-579e-48d6-f640-c6eaea583b61"
   },
   "outputs": [
    {
     "data": {
      "text/plain": [
       "Text(0,0.5,'$sin^3(x)$')"
      ]
     },
     "execution_count": 3,
     "metadata": {},
     "output_type": "execute_result"
    },
    {
     "data": {
      "image/png": "[encoded data removed]",
      "text/plain": [
       "<Figure size 432x288 with 1 Axes>"
      ]
     },
     "metadata": {
      "needs_background": "light"
     },
     "output_type": "display_data"
    }
   ],
   "source": [
    "#Plot of the function, vectorized code, and log plots of the error in my approximation for tolerance values  10^−2 ,  10^−4 , and 10^-8 over the interval [0,𝜋] \n",
    "xvals = np.linspace(0,np.pi,int(1e3))\n",
    "yvals = [np.sin(ii)**3. for ii in xvals]\n",
    "\n",
    "yvals_vec = sincub_vec(xvals,1e-4)\n",
    "\n",
    "plt.plot(xvals,yvals, color='r',ls='-', label=\"$\\sin^3(x)$\")\n",
    "plt.plot(xvals, yvals_vec, color='b',ls='--', label=\"vectorized code\")\n",
    "\n",
    "plt.legend(loc=(.1,.1))\n",
    "\n",
    "plt.xlabel('$x$')\n",
    "plt.ylabel('$sin^3(x)$')"
   ]
  },
  {
   "cell_type": "code",
   "execution_count": 4,
   "metadata": {
    "colab": {},
    "colab_type": "code",
    "id": "lg9PlWlT4TfT",
    "outputId": "c2ec0493-1c85-4a02-d61a-c476ba78a7a0"
   },
   "outputs": [
    {
     "name": "stderr",
     "output_type": "stream",
     "text": [
      "/anaconda2/lib/python2.7/site-packages/ipykernel_launcher.py:5: RuntimeWarning: divide by zero encountered in log10\n",
      "  \"\"\"\n",
      "/anaconda2/lib/python2.7/site-packages/ipykernel_launcher.py:6: RuntimeWarning: divide by zero encountered in log10\n",
      "  \n",
      "/anaconda2/lib/python2.7/site-packages/ipykernel_launcher.py:7: RuntimeWarning: divide by zero encountered in log10\n",
      "  import sys\n"
     ]
    },
    {
     "data": {
      "text/plain": [
       "Text(0,0.5,'$\\\\log_{10}|Error|$')"
      ]
     },
     "execution_count": 4,
     "metadata": {},
     "output_type": "execute_result"
    },
    {
     "data": {
      "image/png": "[encoded data removed]",
      "text/plain": [
       "<Figure size 432x288 with 1 Axes>"
      ]
     },
     "metadata": {
      "needs_background": "light"
     },
     "output_type": "display_data"
    }
   ],
   "source": [
    "yvals_vec1 = sincub_vec(xvals,1e-4)\n",
    "yvals_vec2 = sincub_vec(xvals,1e-6)\n",
    "yvals_vec3 = sincub_vec(xvals,1e-8)\n",
    "\n",
    "plt.plot(xvals,np.log10(np.abs(yvals-yvals_vec1)),color='r',ls='--',label='tol=$10^{-4}$')\n",
    "plt.plot(xvals,np.log10(np.abs(yvals-yvals_vec2)),color='b',ls='--',label='tol=$10^{-6}$')\n",
    "plt.plot(xvals,np.log10(np.abs(yvals-yvals_vec3)),color='g',ls='--',label='tol=$10^{-8}$')\n",
    "\n",
    "plt.legend(loc=(.1,.7))\n",
    "\n",
    "plt.xlabel('$x$')\n",
    "plt.ylabel('$\\log_{10}|Error|$')"
   ]
  },
  {
   "cell_type": "markdown",
   "metadata": {
    "colab_type": "text",
    "id": "BHrIqTuH4TfX"
   },
   "source": [
    "# Conclusion:\n",
    "From this graph of the log errors, we can see that at some point for all tolerance values the Taylor series approximation to $sin^{3}(x)$ gets worse as our x value increases.  We can also see that between these three tolerances, the approximation is improving as the tolerance value decreases."
   ]
  },
  {
   "cell_type": "markdown",
   "metadata": {
    "colab_type": "text",
    "id": "yss-beGX4TfY"
   },
   "source": [
    "---\n",
    "# Make a conclusion about this function\n",
    "\n",
    "$$\n",
    "a_{n+1} = \\left\\{\n",
    "\\begin{array}{rl}\n",
    "\\frac{1}{2} a_{n} & \\text{if} ~ a_{n} ~ \\text{is an even number} \\\\\n",
    "3a_{n} + 1 & \\text{if} ~ a_{n} ~ \\text{is an odd number}\n",
    "\\end{array}\n",
    "\\right.\n",
    "$$\n"
   ]
  },
  {
   "cell_type": "code",
   "execution_count": 5,
   "metadata": {
    "colab": {},
    "colab_type": "code",
    "id": "eLybnKmQ4Tfc",
    "outputId": "7e32dae9-bd1b-4673-f6f4-af6d70e14d28"
   },
   "outputs": [
    {
     "name": "stdout",
     "output_type": "stream",
     "text": [
      "[11. 34. 17. 52. 26. 13. 40. 20. 10.  5. 16.  8.  4.  2.  1.  4.  2.  1.\n",
      "  4.  2.  1.  4.  2.  1.  4.  2.  1.  4.  2.  1.  4.  2.  1.  4.  2.  1.\n",
      "  4.  2.  1.  4.]\n"
     ]
    }
   ],
   "source": [
    "# print out first 40 numbers where a1 = 11 \n",
    "xvals = np.zeros(40)\n",
    "xvals[0] = 11\n",
    "a1 = 11\n",
    "an = a1\n",
    "for j in xrange(1,40):\n",
    "    if an%2 == 0:\n",
    "        xvals[j] = (1./2)*an\n",
    "        an = xvals[j]\n",
    "    else:\n",
    "        xvals[j] = 3*an + 1\n",
    "        an = xvals[j]\n",
    "print xvals    "
   ]
  },
  {
   "cell_type": "code",
   "execution_count": 6,
   "metadata": {
    "colab": {},
    "colab_type": "code",
    "id": "3CML4JqY4Tfh",
    "outputId": "b488eec8-e6c5-441a-976c-6e7b4d45a138"
   },
   "outputs": [
    {
     "name": "stdout",
     "output_type": "stream",
     "text": [
      "[25. 76. 38. 19. 58. 29. 88. 44. 22. 11. 34. 17. 52. 26. 13. 40. 20. 10.\n",
      "  5. 16.  8.  4.  2.  1.  4.  2.  1.  4.  2.  1.  4.  2.  1.  4.  2.  1.\n",
      "  4.  2.  1.  4.]\n"
     ]
    }
   ],
   "source": [
    "# Do the same for  𝑎1=25 . Make a conjecture about this type of sequence.\n",
    "xvals = np.zeros(40)\n",
    "xvals[0] = 25\n",
    "a1 = 25\n",
    "an = a1\n",
    "for j in xrange(1,40):\n",
    "    if an%2 == 0:\n",
    "        xvals[j] = (1./2)*an\n",
    "        an = xvals[j]\n",
    "    else:\n",
    "        xvals[j] = 3.*an + 1\n",
    "        an = xvals[j]\n",
    "print xvals  "
   ]
  },
  {
   "cell_type": "markdown",
   "metadata": {
    "colab_type": "text",
    "id": "zmC9iZw04Tfl"
   },
   "source": [
    "# Conclusion\n",
    "\n",
    "We can see from the two sequences that eventually the sequence will hit 4 and will repeat through 4 , 2 , and 1 forever. This sequence would go on forever and neither $\\frac{1}{2} a_{n}$ nor $3a_{n} + 1 $ could ever reach zero unless the sequence started at zero. However, if it started at 0, it would be a sequence of only 0s. "
   ]
  },
  {
   "cell_type": "markdown",
   "metadata": {
    "colab_type": "text",
    "id": "isHIaFbU4TgP"
   },
   "source": [
    "---\n",
    "# Creating and observing sequence trends\n",
    "\n",
    "We can generate a 3n+1 sequence as follows\n",
    "\n",
    "- Start with a positive integer n.\n",
    "\n",
    "- If n = 1, stop.\n",
    "\n",
    "- If n is even, replace it with n/2.\n",
    "\n",
    "- If n is odd, replace it with 3n+1.\n",
    "\n",
    "So if we started with $n=3$, then we would generate the sequence\n",
    "\n",
    "$$\n",
    "3, 10, 5, 16, 8, 4, 2, 1\n",
    "$$\n",
    "\n",
    "it is unknown whether there are any starting values $n$ which generate a sequence which goes on for forever.  Thus, an interesting associated quantity we would want to know is how many terms a given value of $n$ generates via the $3n+1$ sequence.  We call this number $L(n)$.  For example then, using our example of $n=3$ above, we have that \n",
    "\n",
    "$$\n",
    "L(3)  = 8\n",
    "$$\n",
    "\n",
    "\n"
   ]
  },
  {
   "cell_type": "code",
   "execution_count": 7,
   "metadata": {
    "colab": {},
    "colab_type": "code",
    "id": "tDwI0mhb4TgQ",
    "outputId": "60c6bdb3-e9bf-47ce-e3af-a4b292deaa29"
   },
   "outputs": [
    {
     "name": "stdout",
     "output_type": "stream",
     "text": [
      "[3, 10.0, 5.0, 16.0, 8.0, 4.0, 2.0, 1.0]\n",
      "8\n"
     ]
    }
   ],
   "source": [
    "# creating a code for L(n) and testing for L(3)\n",
    "def seq(n):\n",
    "    j = n\n",
    "    mylist = []\n",
    "    mylist.append(n)\n",
    "    if mylist[len(mylist)-1] == 1: \n",
    "        return mylist\n",
    "    else:\n",
    "        while mylist[len(mylist)-1] != 1:\n",
    "            if j%2 == 0:\n",
    "                j = (1/2.)*j\n",
    "                mylist.append(j)\n",
    "            else: \n",
    "                j = 3.*j + 1\n",
    "                mylist.append(j)\n",
    "        return mylist\n",
    "def L(n):\n",
    "    return len(seq(n))\n",
    "print seq(3)\n",
    "print L(3)"
   ]
  },
  {
   "cell_type": "code",
   "execution_count": 8,
   "metadata": {
    "colab": {},
    "colab_type": "code",
    "id": "Fm3HB1PQ4TgT",
    "outputId": "73511aa5-c881-44b0-c0c5-5f206b64a477"
   },
   "outputs": [
    {
     "data": {
      "image/png": "[encoded data removed]",
      "text/plain": [
       "<Figure size 648x504 with 1 Axes>"
      ]
     },
     "metadata": {
      "needs_background": "light"
     },
     "output_type": "display_data"
    }
   ],
   "source": [
    "# plot of  𝐿(𝑛)  for  1≤𝑛≤1000 \n",
    "xvals = np.linspace(1,1000,1000)\n",
    "yvals = [L(ii) for ii in xvals]\n",
    "\n",
    "plt.plot(xvals,yvals, color='pink', ls = '', marker='*', label=\"$L(x)$\")\n",
    "\n",
    "plt.legend(loc=(.1,.8))\n",
    "plt.xlabel('$x$')\n",
    "plt.ylabel('$L(x)$')\n",
    "fig=plt.gcf() \n",
    "fig.set_size_inches(9,7)"
   ]
  },
  {
   "cell_type": "markdown",
   "metadata": {
    "colab_type": "text",
    "id": "NfwwFcrh4TgW"
   },
   "source": [
    "# Conclusion\n",
    "Looking at the graph with 1000 points, it is hard to see any trends. However, looking at smaller sections of the graph is more telling. L(x) does not go simply up and down as x increases. At some points it goes up twice such as L(4) to L(5) to L(6) those are all increasing. However, sometimes it increases and decreases as each x increases by 1 such as when x = 24 to x = 28. There are also some points where L(x) stays the same as x increases such as x = 14 to x = 15 and x = 22 to x = 23. Other things I notice is that each x has a finite value, none go to infinity. Also, the highest point in this domain of x is roughly 180. "
   ]
  }
 ],
 "metadata": {
  "colab": {
   "name": "Midterm Complete.ipynb",
   "provenance": [],
   "version": "0.3.2"
  },
  "kernelspec": {
   "display_name": "Python 2",
   "language": "python",
   "name": "python2"
  },
  "language_info": {
   "codemirror_mode": {
    "name": "ipython",
    "version": 2
   },
   "file_extension": ".py",
   "mimetype": "text/x-python",
   "name": "python",
   "nbconvert_exporter": "python",
   "pygments_lexer": "ipython2",
   "version": "2.7.15"
  }
 },
 "nbformat": 4,
 "nbformat_minor": 1
}
